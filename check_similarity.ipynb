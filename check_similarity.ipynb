{
 "cells": [
  {
   "cell_type": "code",
   "execution_count": 1,
   "metadata": {},
   "outputs": [
    {
     "name": "stderr",
     "output_type": "stream",
     "text": [
      "[nltk_data] Downloading package stopwords to /home/mr/nltk_data...\n",
      "[nltk_data]   Package stopwords is already up-to-date!\n",
      "[nltk_data] Downloading package punkt to /home/mr/nltk_data...\n",
      "[nltk_data]   Package punkt is already up-to-date!\n"
     ]
    }
   ],
   "source": [
    "import numpy as np\n",
    "import pandas as pd\n",
    "\n",
    "from core.ranking_model import Ranker\n",
    "from core.config import load_config"
   ]
  },
  {
   "cell_type": "code",
   "execution_count": 2,
   "metadata": {},
   "outputs": [
    {
     "name": "stdout",
     "output_type": "stream",
     "text": [
      "MainConfig(data=DataPath(dir='data', ch_full='data/emb_MiniLM/channels.npy', emb_full='data/emb_MiniLM/embeddings.npy', channels='data/Channels.csv'), bot=BotConfig(token='5001578682:AAHjyiOEH3J77a1i7RvfHQzeGrGVl24fIvY'))\n"
     ]
    }
   ],
   "source": [
    "PATH_TO_CONFIG = \"config.yaml\"\n",
    "config = load_config(PATH_TO_CONFIG)\n",
    "print(config)\n",
    "\n",
    "username = \"geometrykanal\""
   ]
  },
  {
   "cell_type": "code",
   "execution_count": 3,
   "metadata": {},
   "outputs": [],
   "source": [
    "ranker = Ranker(config=config, use_trans=False)"
   ]
  },
  {
   "cell_type": "code",
   "execution_count": 4,
   "metadata": {},
   "outputs": [],
   "source": [
    "cosine_similarities = ranker.distance_func(ranker.emb)\n"
   ]
  },
  {
   "cell_type": "code",
   "execution_count": 5,
   "metadata": {},
   "outputs": [
    {
     "data": {
      "text/plain": [
       "array([[0.9333847 , 0.9370193 , 0.9408459 , 0.9408804 , 0.9428151 ],\n",
       "       [0.84847546, 0.85444444, 0.85577345, 0.86390316, 0.868993  ],\n",
       "       [0.7556294 , 0.7738953 , 0.7799909 , 0.81803066, 0.82789   ],\n",
       "       [0.8315894 , 0.8421994 , 0.8424351 , 0.8506153 , 0.85576206],\n",
       "       [0.89874387, 0.90360326, 0.9048552 , 0.905118  , 0.915417  ],\n",
       "       [0.92145854, 0.92840326, 0.9308511 , 0.93239945, 0.9330612 ],\n",
       "       [0.7670739 , 0.7701132 , 0.8012665 , 0.82330143, 0.8301627 ],\n",
       "       [0.82105047, 0.82448727, 0.832734  , 0.83341146, 0.8347159 ],\n",
       "       [0.8575884 , 0.8578707 , 0.8589305 , 0.8602648 , 0.86043763],\n",
       "       [0.9699013 , 0.97426075, 0.97439915, 0.97529745, 0.97821   ]],\n",
       "      dtype=float32)"
      ]
     },
     "execution_count": 5,
     "metadata": {},
     "output_type": "execute_result"
    }
   ],
   "source": [
    "np.sort(cosine_similarities)[:10, -10:-5]"
   ]
  },
  {
   "cell_type": "code",
   "execution_count": 11,
   "metadata": {},
   "outputs": [],
   "source": [
    "res_sort = np.sort(cosine_similarities)\n",
    "res_argsort = np.argsort(cosine_similarities)"
   ]
  },
  {
   "cell_type": "code",
   "execution_count": 37,
   "metadata": {},
   "outputs": [],
   "source": [
    "_ = ranker.username2emb[\"geometrykanal\"]"
   ]
  },
  {
   "cell_type": "code",
   "execution_count": 46,
   "metadata": {},
   "outputs": [
    {
     "data": {
      "text/plain": [
       "'geometrykanal'"
      ]
     },
     "execution_count": 46,
     "metadata": {},
     "output_type": "execute_result"
    }
   ],
   "source": [
    "ranker.channel_id2username[1079229178]"
   ]
  },
  {
   "cell_type": "code",
   "execution_count": 47,
   "metadata": {},
   "outputs": [
    {
     "data": {
      "text/html": [
       "<div>\n",
       "<style scoped>\n",
       "    .dataframe tbody tr th:only-of-type {\n",
       "        vertical-align: middle;\n",
       "    }\n",
       "\n",
       "    .dataframe tbody tr th {\n",
       "        vertical-align: top;\n",
       "    }\n",
       "\n",
       "    .dataframe thead th {\n",
       "        text-align: right;\n",
       "    }\n",
       "</style>\n",
       "<table border=\"1\" class=\"dataframe\">\n",
       "  <thead>\n",
       "    <tr style=\"text-align: right;\">\n",
       "      <th></th>\n",
       "      <th>channel_id</th>\n",
       "      <th>title</th>\n",
       "      <th>link</th>\n",
       "      <th>about</th>\n",
       "      <th>date</th>\n",
       "      <th>participants_count</th>\n",
       "      <th>total_photos</th>\n",
       "      <th>total_video</th>\n",
       "      <th>total_document</th>\n",
       "      <th>total_music</th>\n",
       "      <th>total_url</th>\n",
       "      <th>total_voice</th>\n",
       "      <th>total_gif</th>\n",
       "    </tr>\n",
       "  </thead>\n",
       "  <tbody>\n",
       "    <tr>\n",
       "      <th>14899</th>\n",
       "      <td>1079229178</td>\n",
       "      <td>Геометрия-канал</td>\n",
       "      <td>geometrykanal</td>\n",
       "      <td>Решаем задачи по геометрии каждый день.\\n\\nАвт...</td>\n",
       "      <td>12:46:38+03</td>\n",
       "      <td>5329</td>\n",
       "      <td>463</td>\n",
       "      <td>19</td>\n",
       "      <td>67</td>\n",
       "      <td>0</td>\n",
       "      <td>495</td>\n",
       "      <td>0</td>\n",
       "      <td>37</td>\n",
       "    </tr>\n",
       "  </tbody>\n",
       "</table>\n",
       "</div>"
      ],
      "text/plain": [
       "       channel_id            title           link  \\\n",
       "14899  1079229178  Геометрия-канал  geometrykanal   \n",
       "\n",
       "                                                   about         date  \\\n",
       "14899  Решаем задачи по геометрии каждый день.\\n\\nАвт...  12:46:38+03   \n",
       "\n",
       "       participants_count  total_photos  total_video  total_document  \\\n",
       "14899                5329           463           19              67   \n",
       "\n",
       "       total_music  total_url  total_voice  total_gif  \n",
       "14899            0        495            0         37  "
      ]
     },
     "execution_count": 47,
     "metadata": {},
     "output_type": "execute_result"
    }
   ],
   "source": [
    "ranker.meta[ranker.meta.link == \"geometrykanal\"]"
   ]
  },
  {
   "cell_type": "code",
   "execution_count": 24,
   "metadata": {},
   "outputs": [
    {
     "name": "stdout",
     "output_type": "stream",
     "text": [
      "111\n",
      "25\n",
      "6\n",
      "19\n",
      "25\n",
      "66\n",
      "7\n",
      "19\n",
      "37\n",
      "39\n",
      "40\n",
      "8\n",
      "25\n",
      "11\n",
      "21\n",
      "0\n"
     ]
    }
   ],
   "source": [
    "mask = res_sort > 0.8\n",
    "for i in range(len(cosine_similarities)):\n",
    "    cur_indexes = res_argsort[i][mask[i]][:-1]\n",
    "    cur_indexes = cur_indexes[::-1]  # descending\n",
    "\n",
    "    print(len(cur_indexes))\n",
    "    if len(cur_indexes) < 4:\n",
    "        break"
   ]
  },
  {
   "cell_type": "code",
   "execution_count": 26,
   "metadata": {},
   "outputs": [
    {
     "data": {
      "text/plain": [
       "array([], dtype=int64)"
      ]
     },
     "execution_count": 26,
     "metadata": {},
     "output_type": "execute_result"
    }
   ],
   "source": [
    "cur_indexes"
   ]
  },
  {
   "cell_type": "code",
   "execution_count": 27,
   "metadata": {},
   "outputs": [
    {
     "data": {
      "text/plain": [
       "True"
      ]
     },
     "execution_count": 27,
     "metadata": {},
     "output_type": "execute_result"
    }
   ],
   "source": [
    "np.all(np.argsort(cosine_similarities)[:, -1] == np.arange(len(cosine_similarities)))"
   ]
  },
  {
   "cell_type": "code",
   "execution_count": 29,
   "metadata": {},
   "outputs": [
    {
     "data": {
      "text/html": [
       "<div>\n",
       "<style scoped>\n",
       "    .dataframe tbody tr th:only-of-type {\n",
       "        vertical-align: middle;\n",
       "    }\n",
       "\n",
       "    .dataframe tbody tr th {\n",
       "        vertical-align: top;\n",
       "    }\n",
       "\n",
       "    .dataframe thead th {\n",
       "        text-align: right;\n",
       "    }\n",
       "</style>\n",
       "<table border=\"1\" class=\"dataframe\">\n",
       "  <thead>\n",
       "    <tr style=\"text-align: right;\">\n",
       "      <th></th>\n",
       "      <th>channel_id</th>\n",
       "      <th>title</th>\n",
       "      <th>link</th>\n",
       "      <th>about</th>\n",
       "    </tr>\n",
       "  </thead>\n",
       "  <tbody>\n",
       "    <tr>\n",
       "      <th>154</th>\n",
       "      <td>1071365669</td>\n",
       "      <td>Павел Чиков</td>\n",
       "      <td>pchikov</td>\n",
       "      <td>Обо всех негативных трендах. И победах над ним...</td>\n",
       "    </tr>\n",
       "    <tr>\n",
       "      <th>616</th>\n",
       "      <td>1065542647</td>\n",
       "      <td>KALOY.RU</td>\n",
       "      <td>akaloy</td>\n",
       "      <td>Телеграм-канал адвоката Калоя Ахильгова. Для с...</td>\n",
       "    </tr>\n",
       "    <tr>\n",
       "      <th>849</th>\n",
       "      <td>1085369243</td>\n",
       "      <td>Loader from SVO</td>\n",
       "      <td>rbevzenko</td>\n",
       "      <td>Law is in the air</td>\n",
       "    </tr>\n",
       "    <tr>\n",
       "      <th>1333</th>\n",
       "      <td>1068518535</td>\n",
       "      <td>Объединённая пресс-служба судов Санкт-Петербурга</td>\n",
       "      <td>SPbGS</td>\n",
       "      <td>NaN</td>\n",
       "    </tr>\n",
       "    <tr>\n",
       "      <th>2532</th>\n",
       "      <td>1067606629</td>\n",
       "      <td>Корпоративное право</td>\n",
       "      <td>corplawpro</td>\n",
       "      <td>Сайт www.corplaw.club. Обратная связь с Юлией ...</td>\n",
       "    </tr>\n",
       "    <tr>\n",
       "      <th>4913</th>\n",
       "      <td>1000183937</td>\n",
       "      <td>Закон и право</td>\n",
       "      <td>ruslaw</td>\n",
       "      <td>Юридический канал Дмитрия Мирончук. \\n\\nС 2015...</td>\n",
       "    </tr>\n",
       "    <tr>\n",
       "      <th>5623</th>\n",
       "      <td>1075088144</td>\n",
       "      <td>Генпрокуратура России</td>\n",
       "      <td>genprocrf</td>\n",
       "      <td>Официальный телеграм-канал Генеральной прокура...</td>\n",
       "    </tr>\n",
       "    <tr>\n",
       "      <th>6638</th>\n",
       "      <td>1045995175</td>\n",
       "      <td>Первый радиоканал АУ и юристов</td>\n",
       "      <td>orpauradio</td>\n",
       "      <td>Обратная связь - @T800_AU</td>\n",
       "    </tr>\n",
       "    <tr>\n",
       "      <th>9195</th>\n",
       "      <td>1076278850</td>\n",
       "      <td>НалогPRO</td>\n",
       "      <td>pronalog</td>\n",
       "      <td>Разбор налоговых споров, подборки налоговых ри...</td>\n",
       "    </tr>\n",
       "    <tr>\n",
       "      <th>10779</th>\n",
       "      <td>1074748881</td>\n",
       "      <td>ЖКХ</td>\n",
       "      <td>gkhvsem</td>\n",
       "      <td>Блог о ЖКХ: правовое регулирование, судебная п...</td>\n",
       "    </tr>\n",
       "  </tbody>\n",
       "</table>\n",
       "</div>"
      ],
      "text/plain": [
       "       channel_id                                             title  \\\n",
       "154    1071365669                                       Павел Чиков   \n",
       "616    1065542647                                          KALOY.RU   \n",
       "849    1085369243                                   Loader from SVO   \n",
       "1333   1068518535  Объединённая пресс-служба судов Санкт-Петербурга   \n",
       "2532   1067606629                               Корпоративное право   \n",
       "4913   1000183937                                     Закон и право   \n",
       "5623   1075088144                             Генпрокуратура России   \n",
       "6638   1045995175                    Первый радиоканал АУ и юристов   \n",
       "9195   1076278850                                          НалогPRO   \n",
       "10779  1074748881                                               ЖКХ   \n",
       "\n",
       "             link                                              about  \n",
       "154       pchikov  Обо всех негативных трендах. И победах над ним...  \n",
       "616        akaloy  Телеграм-канал адвоката Калоя Ахильгова. Для с...  \n",
       "849     rbevzenko                                  Law is in the air  \n",
       "1333        SPbGS                                                NaN  \n",
       "2532   corplawpro  Сайт www.corplaw.club. Обратная связь с Юлией ...  \n",
       "4913       ruslaw  Юридический канал Дмитрия Мирончук. \\n\\nС 2015...  \n",
       "5623    genprocrf  Официальный телеграм-канал Генеральной прокура...  \n",
       "6638   orpauradio                          Обратная связь - @T800_AU  \n",
       "9195     pronalog  Разбор налоговых споров, подборки налоговых ри...  \n",
       "10779     gkhvsem  Блог о ЖКХ: правовое регулирование, судебная п...  "
      ]
     },
     "execution_count": 29,
     "metadata": {},
     "output_type": "execute_result"
    }
   ],
   "source": [
    "ids = [ranker.chan_ids[x] for x in np.argsort(cosine_similarities)[2, -10:]]\n",
    "ranker.meta[ranker.meta.channel_id.isin(ids)][[\"channel_id\", \"title\", \"link\", \"about\"]]"
   ]
  },
  {
   "cell_type": "code",
   "execution_count": null,
   "metadata": {},
   "outputs": [],
   "source": []
  },
  {
   "cell_type": "code",
   "execution_count": null,
   "metadata": {},
   "outputs": [],
   "source": [
    "topn_idx = np.argsort(cosine_similarities, axis=0)\n",
    "closest_channel_ids = self.chan_ids[topn_idx]\n",
    "closest_usernames = [self.channel_id2username[i] for i in closest_channel_ids]"
   ]
  }
 ],
 "metadata": {
  "interpreter": {
   "hash": "916dbcbb3f70747c44a77c7bcd40155683ae19c65e1c03b4aa3499c5328201f1"
  },
  "kernelspec": {
   "display_name": "Python 3.8.10 64-bit",
   "language": "python",
   "name": "python3"
  },
  "language_info": {
   "codemirror_mode": {
    "name": "ipython",
    "version": 3
   },
   "file_extension": ".py",
   "mimetype": "text/x-python",
   "name": "python",
   "nbconvert_exporter": "python",
   "pygments_lexer": "ipython3",
   "version": "3.8.10"
  },
  "orig_nbformat": 4
 },
 "nbformat": 4,
 "nbformat_minor": 2
}
